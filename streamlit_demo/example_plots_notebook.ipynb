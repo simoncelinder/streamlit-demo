{
 "cells": [
  {
   "cell_type": "code",
   "execution_count": null,
   "id": "8593fe20-066e-4f31-aa5c-39bc82ae4e3d",
   "metadata": {
    "tags": []
   },
   "outputs": [],
   "source": [
    "%load_ext autoreload\n",
    "%autoreload 2\n",
    "\n",
    "import pandas as pd\n",
    "import cufflinks as cf\n",
    "\n",
    "cf.go_offline()"
   ]
  },
  {
   "cell_type": "code",
   "execution_count": null,
   "id": "882a7abf-6fcd-4387-b1b3-5b3932af57a1",
   "metadata": {
    "tags": []
   },
   "outputs": [],
   "source": [
    "from helpers import initial_formatting\n",
    "\n",
    "df = pd.read_csv('data/Sales_September_2019.csv')\n",
    "\n",
    "df = initial_formatting(df)"
   ]
  },
  {
   "cell_type": "markdown",
   "id": "7dc46fb6-54be-45ad-a773-ea8ebba449b5",
   "metadata": {},
   "source": [
    "# Price per product (not in dashboard - could be bonus task!)"
   ]
  },
  {
   "cell_type": "code",
   "execution_count": null,
   "id": "44f447df-38ca-43a7-9591-885a0fb40b11",
   "metadata": {
    "tags": []
   },
   "outputs": [],
   "source": [
    "(\n",
    "    df\n",
    "    .groupby('product')\n",
    "    .mean()\n",
    "    ['price_each']\n",
    "    .sort_values(ascending=False)\n",
    "    .iplot(kind='bar')\n",
    ")"
   ]
  },
  {
   "cell_type": "markdown",
   "id": "1bd213fe-5a99-469c-a3a6-4cbefa7854c5",
   "metadata": {},
   "source": [
    "# Filter out some main products"
   ]
  },
  {
   "cell_type": "code",
   "execution_count": null,
   "id": "155d2ce9-786c-4e0f-b38b-3fafd0c5aed0",
   "metadata": {
    "tags": []
   },
   "outputs": [],
   "source": [
    "top_3 = (\n",
    "    df\n",
    "    [['product', 'quantity_ordered']]\n",
    "    .groupby('product')\n",
    "    .sum()\n",
    "    .sort_values('quantity_ordered', ascending=False)\n",
    "    .head(3)\n",
    "    .index\n",
    ")\n",
    "\n",
    "df = df[df['product'].isin(top_3)]"
   ]
  },
  {
   "cell_type": "markdown",
   "id": "2960fcb6-c149-4163-aa85-bff99e5f7de1",
   "metadata": {},
   "source": [
    "# Resampling example "
   ]
  },
  {
   "cell_type": "markdown",
   "id": "19d0e300-eda5-48d5-9d9e-7568810a3388",
   "metadata": {},
   "source": [
    "## The function used in the dashboard (explicit loop over products)"
   ]
  },
  {
   "cell_type": "code",
   "execution_count": null,
   "id": "b9e906d2-6fc6-41b7-84ff-e4139a9c7ba5",
   "metadata": {
    "tags": []
   },
   "outputs": [],
   "source": [
    "def resample_data(df, frequency, agg_dict):\n",
    "    resampled_data_list = []\n",
    "    unique_products = df['product'].unique()\n",
    "\n",
    "    for product in unique_products:\n",
    "        product_data = df[df['product'] == product]\n",
    "\n",
    "        if frequency == 'hourly':\n",
    "            resampled_product_data = product_data.resample('H', on='order_date').agg(agg_dict)\n",
    "        elif frequency == 'daily':\n",
    "            resampled_product_data = product_data.resample('D', on='order_date').agg(agg_dict)\n",
    "        elif frequency == 'weekly':\n",
    "            resampled_product_data = product_data.resample('W', on='order_date').agg(agg_dict)\n",
    "        else:\n",
    "            Exception('Invalid frequency')\n",
    "\n",
    "        resampled_product_data['product'] = product\n",
    "        resampled_data_list.append(resampled_product_data)\n",
    "\n",
    "    resampled_data = pd.concat(resampled_data_list)\n",
    "    return resampled_data.reset_index()"
   ]
  },
  {
   "cell_type": "code",
   "execution_count": null,
   "id": "71bd1b9f-dbe7-42e9-8b5d-76cf44ad8133",
   "metadata": {},
   "outputs": [],
   "source": [
    "# TODO: Experiment with calling the function above\n",
    "# and plot the result in some reasonable way with iplot \n",
    "# for example group by product, sum and plot only quantity\n",
    "resample_data(df, '<TODO>', {'quantity_ordered': '<TODO>', 'price_each': '<TODO>'})"
   ]
  },
  {
   "cell_type": "code",
   "execution_count": null,
   "id": "040ad8ef-014c-43cb-b488-b25a6ed5dc39",
   "metadata": {
    "tags": []
   },
   "outputs": [],
   "source": [
    "# Group/Slice over some time dimension (hour of day etc)\n",
    "df['dom'] = df['order_date'].dt.day\n",
    "df['dow'] = df['order_date'].dt.weekday\n",
    "df['hod'] = df['order_date'].dt.hour"
   ]
  },
  {
   "cell_type": "code",
   "execution_count": null,
   "id": "fd23bed9-fcf8-4980-afe7-f37143416301",
   "metadata": {
    "tags": []
   },
   "outputs": [],
   "source": [
    "# TODO: Experiment with changing the slicer\n",
    "slice_by = 'hod'\n",
    "(\n",
    "    df\n",
    "    [['quantity_ordered', 'product', slice_by]]\n",
    "    .groupby(['product', slice_by])\n",
    "    .sum()\n",
    "    .unstack(level='product')  # This was a bit new to me, is not in the dashboard solution :-)\n",
    ").iplot()"
   ]
  },
  {
   "cell_type": "code",
   "execution_count": null,
   "id": "1af22812-4a51-41fa-8e60-f01d6c05b7b7",
   "metadata": {},
   "outputs": [],
   "source": []
  }
 ],
 "metadata": {
  "kernelspec": {
   "display_name": "Python 3 (ipykernel)",
   "language": "python",
   "name": "python3"
  },
  "language_info": {
   "codemirror_mode": {
    "name": "ipython",
    "version": 3
   },
   "file_extension": ".py",
   "mimetype": "text/x-python",
   "name": "python",
   "nbconvert_exporter": "python",
   "pygments_lexer": "ipython3",
   "version": "3.9.6"
  }
 },
 "nbformat": 4,
 "nbformat_minor": 5
}
